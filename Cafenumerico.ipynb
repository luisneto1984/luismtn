{
  "nbformat": 4,
  "nbformat_minor": 0,
  "metadata": {
    "colab": {
      "name": "Cópia de Olá, este é o Colaboratory",
      "provenance": [],
      "collapsed_sections": [],
      "toc_visible": true,
      "include_colab_link": true
    },
    "kernelspec": {
      "display_name": "Python 3",
      "name": "python3"
    }
  },
  "cells": [
    {
      "cell_type": "markdown",
      "metadata": {
        "id": "view-in-github",
        "colab_type": "text"
      },
      "source": [
        "<a href=\"https://colab.research.google.com/github/luisneto1984/luismtn/blob/main/Cafenumerico.ipynb\" target=\"_parent\"><img src=\"https://colab.research.google.com/assets/colab-badge.svg\" alt=\"Open In Colab\"/></a>"
      ]
    },
    {
      "cell_type": "markdown",
      "metadata": {
        "id": "5fCEDCU_qrC0"
      },
      "source": [
        "<p><img alt=\"Colaboratory logo\" height=\"45px\" src=\"/img/colab_favicon.ico\" align=\"left\" hspace=\"10px\" vspace=\"0px\"></p>\n",
        "\n",
        "<h1>O que é o Colaboratory?</h1>\n",
        "\n",
        "O Colaboratory ou \"Colab\" permite escrever código Python no seu navegador, com: \n",
        "- Nenhuma configuração necessária\n",
        "- Acesso gratuito a GPUs\n",
        "- Compartilhamento fácil\n",
        "\n",
        "Você pode ser um <strong>estudante</strong>, um <strong>cientista de dados</strong> ou um <strong>pesquisador de IA</strong>, o Colab pode facilitar seu trabalho. Assista ao vídeo <a href=\"https://www.youtube.com/watch?v=inN8seMm7UI\">Introdução ao Colab</a> para saber mais ou simplesmente comece a usá-lo abaixo!"
      ]
    },
    {
      "cell_type": "markdown",
      "metadata": {
        "id": "GJBs_flRovLc"
      },
      "source": [
        "## <strong>Primeiros passos</strong>\n",
        "\n",
        "O documento que você está lendo não é uma página da Web estática, mas sim um ambiente interativo chamado <strong>notebook Colab</strong> que permite escrever e executar código.\n",
        "\n",
        "Por exemplo, aqui está uma <strong>célula de código</strong> com um breve script Python que calcula um valor, armazena-o em uma variável e imprime o resultado:"
      ]
    },
    {
      "cell_type": "code",
      "metadata": {
        "colab": {
          "base_uri": "https://localhost:8080/",
          "height": 34
        },
        "id": "gJr_9dXGpJ05",
        "outputId": "9f556d03-ec67-4950-a485-cfdba9ddd14d"
      },
      "source": [
        "seconds_in_a_day = 24 * 60 * 60\n",
        "seconds_in_a_day"
      ],
      "execution_count": null,
      "outputs": [
        {
          "data": {
            "text/plain": [
              "86400"
            ]
          },
          "execution_count": 0,
          "metadata": {
            "tags": []
          },
          "output_type": "execute_result"
        }
      ]
    },
    {
      "cell_type": "markdown",
      "metadata": {
        "id": "2fhs6GZ4qFMx"
      },
      "source": [
        "Para executar o código na célula acima, clique nela e depois pressione o botão Play à esquerda do código ou use o atalho do teclado \"Command/Ctrl+Enter\". Para editar o código, basta clicar na célula e começar a editar.\n",
        "\n",
        "As variáveis definidas em uma célula podem ser usadas mais tarde em outras células:"
      ]
    },
    {
      "cell_type": "code",
      "metadata": {
        "colab": {
          "base_uri": "https://localhost:8080/",
          "height": 34
        },
        "id": "-gE-Ez1qtyIA",
        "outputId": "94cb2224-0edf-457b-90b5-0ac3488d8a97"
      },
      "source": [
        "seconds_in_a_week = 7 * seconds_in_a_day\n",
        "seconds_in_a_week"
      ],
      "execution_count": null,
      "outputs": [
        {
          "data": {
            "text/plain": [
              "604800"
            ]
          },
          "execution_count": 0,
          "metadata": {
            "tags": []
          },
          "output_type": "execute_result"
        }
      ]
    },
    {
      "cell_type": "markdown",
      "metadata": {
        "id": "lSrWNr3MuFUS"
      },
      "source": [
        "Os notebooks do Colab permitem combinar <strong>código executável</strong> e <strong>rich text</strong> em um só documento, além de <strong>imagens</strong>, <strong>HTML</strong>, <strong>LaTeX</strong> e muito mais. Quando você cria seus próprios notebooks do Colab, eles são armazenados na sua conta do Google Drive. É possível compartilhar os notebooks do Colab facilmente com colegas de trabalho ou amigos e permitir que eles façam comentários ou até editem o documento. Para saber mais, consulte a <a href=\"/notebooks/basic_features_overview.ipynb\">Visão Geral do Colab</a>. Para criar um novo notebook do Colab, use o menu Arquivo acima ou acesse o seguinte: <a href=\"http://colab.research.google.com#create=true\">criar um novo notebook do Colab</a>.\n",
        "\n",
        "Os notebooks do Colab são notebooks do Jupyter hospedados no Colab. Para saber mais sobre o projeto Jupyter, acesse <a href=\"https://www.jupyter.org\">jupyter.org</a>."
      ]
    },
    {
      "cell_type": "markdown",
      "metadata": {
        "id": "UdRyKR44dcNI"
      },
      "source": [
        "## Ciência de dados\n",
        "\n",
        "Com o Colab, você pode aproveitar todo o potencial das conhecidas bibliotecas Python para analisar e ver dados. A célula de códigos abaixo usa <strong>numpy</strong> para gerar dados aleatórios e <strong>matplotlib</strong> para visualizá-los. Para editar o código, basta clicar na célula e começar a editar."
      ]
    },
    {
      "cell_type": "code",
      "metadata": {
        "colab": {
          "base_uri": "https://localhost:8080/",
          "height": 281
        },
        "id": "C4HZx7Gndbrh",
        "outputId": "46abc637-6abd-41b2-9bba-80a7ae992e06"
      },
      "source": [
        "import numpy as np\n",
        "from matplotlib import pyplot as plt\n",
        "\n",
        "ys = 200 + np.random.randn(100)\n",
        "x = [x for x in range(len(ys))]\n",
        "\n",
        "plt.plot(x, ys, '-')\n",
        "plt.fill_between(x, ys, 195, where=(ys > 195), facecolor='g', alpha=0.6)\n",
        "\n",
        "plt.title(\"Sample Visualization\")\n",
        "plt.show()"
      ],
      "execution_count": null,
      "outputs": [
        {
          "data": {
            "image/png": "[encoded data removed]",
            "text/plain": [
              "<Figure size 432x288 with 1 Axes>"
            ]
          },
          "metadata": {
            "tags": []
          },
          "output_type": "display_data"
        }
      ]
    },
    {
      "cell_type": "markdown",
      "metadata": {
        "id": "4_kCnsPUqS6o"
      },
      "source": [
        "É possível importar para os notebooks do Colab os dados da sua conta do Google Drive, como planilhas. Também é possível importar do GitHub e de muitas outras fontes. Para saber mais sobre como importar dados e como o Colab pode ser usado para a ciência de dados, consulte o link abaixo em <a href=\"#working-with-data\">Como trabalhar com dados</a>."
      ]
    },
    {
      "cell_type": "markdown",
      "metadata": {
        "id": "OwuxHmxllTwN"
      },
      "source": [
        "## Machine learning\n",
        "\n",
        "Com o Colab, é possível importar um conjunto de dados de imagem, treinar um classificador de imagens dentro dele e avaliar o modelo, tudo com apenas <a href=\"https://colab.research.google.com/github/tensorflow/docs/blob/master/site/en/tutorials/quickstart/beginner.ipynb\">algumas linhas de código</a>. Os notebooks do Colab executam código dos servidores em nuvem do Google. Isso significa que você pode tirar proveito da potência de hardware do Google, como <a href=\"#using-accelerated-hardware\">GPUs e TPUs</a>, independentemente da potência da sua máquina. Você só precisa de um navegador."
      ]
    },
    {
      "cell_type": "markdown",
      "metadata": {
        "id": "ufxBm1yRnruN"
      },
      "source": [
        "O Colab é usado amplamente pela comunidade de machine learning, para aplicações como:\n",
        "- Primeiros passos com o TensorFlow\n",
        "- Desenvolvimento e treinamento de redes neurais\n",
        "- Experimentos com TPUs\n",
        "- Divulgação de pesquisas em IA\n",
        "- Criação de tutoriais\n",
        "\n",
        "Para ver notebooks do Colab que demonstram aplicações de machine learning, consulte os <a href=\"#machine-learning-examples\">exemplos de machine learning</a> abaixo."
      ]
    },
    {
      "cell_type": "markdown",
      "metadata": {
        "id": "-Rh3-Vt9Nev9"
      },
      "source": [
        "## Mais recursos\n",
        "\n",
        "### Como trabalhar com Notebooks no Colab\n",
        "- [Visão geral do Colaboratory](/notebooks/basic_features_overview.ipynb)\n",
        "- [Guia sobre Markdown](/notebooks/markdown_guide.ipynb)\n",
        "- [Importar bibliotecas e instalar dependências](/notebooks/snippets/importing_libraries.ipynb)\n",
        "- [Salvar e carregar notebooks no GitHub](https://colab.research.google.com/github/googlecolab/colabtools/blob/master/notebooks/colab-github-demo.ipynb)\n",
        "- [Formulários interativos](/notebooks/forms.ipynb)\n",
        "- [Widgets interativos](/notebooks/widgets.ipynb)\n",
        "- <img src=\"/img/new.png\" height=\"20px\" align=\"left\" hspace=\"4px\" alt=\"New\"></img>\n",
        " [TensorFlow 2 no Colab](/notebooks/tensorflow_version.ipynb)\n",
        "\n",
        "<a name=\"working-with-data\"></a>\n",
        "### Como trabalhar com dados\n",
        "- [Carregar dados: Drive, Planilhas e Google Cloud Storage](/notebooks/io.ipynb) \n",
        "- [Gráficos: visualizar dados](/notebooks/charts.ipynb)\n",
        "- [Primeiros passos com o BigQuery](/notebooks/bigquery.ipynb)\n",
        "\n",
        "### Curso intensivo de machine learning\n",
        "Estes são alguns notebooks do curso on-line do Google sobre machine learning. Acesse o <a href=\"https://developers.google.com/machine-learning/crash-course/\">site do curso completo</a> para saber mais.\n",
        "- [Introdução à pandas](/notebooks/mlcc/intro_to_pandas.ipynb)\n",
        "- [Conceitos do Tensorflow](/notebooks/mlcc/tensorflow_programming_concepts.ipynb)\n",
        "\n",
        "<a name=\"using-accelerated-hardware\"></a>\n",
        "### Usar hardware acelerado\n",
        "- [TensorFlow com GPUs](/notebooks/gpu.ipynb)\n",
        "- [TensorFlow com TPUs](/notebooks/tpu.ipynb)"
      ]
    },
    {
      "cell_type": "markdown",
      "metadata": {
        "id": "P-H6Lw1vyNNd"
      },
      "source": [
        "<a name=\"machine-learning-examples\"></a>\n",
        "\n",
        "## Exemplos de machine learning\n",
        "\n",
        "Para ver exemplos completos das análises interativas de machine learning possibilitadas pelo Colaboratory, confira estes tutoriais que usam modelos do <a href=\"https://tfhub.dev\">TensorFlow Hub</a>.\n",
        "\n",
        "Vejas alguns exemplos:\n",
        "\n",
        "- <a href=\"https://tensorflow.org/hub/tutorials/tf2_image_retraining\">Treinar novamente um classificador de imagens</a>: crie um modelo do Keras com base em um classificador de imagens pré-treinado para distinguir flores.\n",
        "- <a href=\"https://tensorflow.org/hub/tutorials/tf2_text_classification\">Classificação de texto</a>: classifique avaliações de filmes do IMDB como <em>positivas</em> ou <em>negativas</em>.\n",
        "- <a href=\"https://tensorflow.org/hub/tutorials/tf2_arbitrary_image_stylization\">Transferência de estilo</a>: use o aprendizado profundo para transferir o estilo entre imagens.\n",
        "- <a href=\"https://tensorflow.org/hub/tutorials/retrieval_with_tf_hub_universal_encoder_qa\">Perguntas e respostas sobre o codificador de frases universais multilíngue</a>: use um modelo de machine learning para responder a perguntas do conjunto de dados SQuAD.\n",
        "- <a href=\"https://tensorflow.org/hub/tutorials/tweening_conv3d\">Interpolação de vídeo</a>: preveja o que aconteceu em um vídeo entre o primeiro e o último frames.\n"
      ]
    },
    {
      "cell_type": "code",
      "metadata": {
        "id": "zAgJ0vFrakoV"
      },
      "source": [
        "import pandas as pd\n",
        "import numpy as np\n",
        "import matplotlib.pyplot as plt"
      ],
      "execution_count": null,
      "outputs": []
    },
    {
      "cell_type": "code",
      "metadata": {
        "colab": {
          "resources": {
            "http://localhost:8080/nbextensions/google.colab/files.js": {
              "data": "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",
              "ok": true,
              "headers": [
                [
                  "content-type",
                  "application/javascript"
                ]
              ],
              "status": 200,
              "status_text": ""
            }
          },
          "base_uri": "https://localhost:8080/",
          "height": 109
        },
        "id": "sAQSx-FXmd1t",
        "outputId": "d237a9e8-b7b8-4d8b-dc81-13bb500f3696"
      },
      "source": [
        "from google.colab import files\n",
        "files.upload()"
      ],
      "execution_count": null,
      "outputs": [
        {
          "output_type": "display_data",
          "data": {
            "text/html": [
              "\n",
              "     <input type=\"file\" id=\"files-a0e33ac3-68f5-43d9-9bea-cc1e53eea7b5\" name=\"files[]\" multiple disabled\n",
              "        style=\"border:none\" />\n",
              "     <output id=\"result-a0e33ac3-68f5-43d9-9bea-cc1e53eea7b5\">\n",
              "      Upload widget is only available when the cell has been executed in the\n",
              "      current browser session. Please rerun this cell to enable.\n",
              "      </output>\n",
              "      <script src=\"/nbextensions/google.colab/files.js\"></script> "
            ],
            "text/plain": [
              "<IPython.core.display.HTML object>"
            ]
          },
          "metadata": {}
        },
        {
          "output_type": "stream",
          "name": "stdout",
          "text": [
            "Saving luis.csv to luis.csv\n"
          ]
        },
        {
          "output_type": "execute_result",
          "data": {
            "text/plain": [
              "{'luis.csv': b'\"p\",\"U:0\",\"U:1\",\"U:2\",\"alpha.water\",\"p_rgh\",\"vtkValidPointMask\",\"arc_length\",\"Points:0\",\"Points:1\",\"Points:2\"\\r\\n1.#QNB,1.#QNB,1.#QNB,1.#QNB,1.#QNB,1.#QNB,0,0,-0.00021531,0.000125,0.00093014\\r\\n1.#QNB,1.#QNB,1.#QNB,1.#QNB,1.#QNB,1.#QNB,0,3.0615e-005,-0.0001847,0.00012537,0.00092993\\r\\n1.#QNB,1.#QNB,1.#QNB,1.#QNB,1.#QNB,1.#QNB,0,6.1231e-005,-0.00015409,0.00012573,0.00092973\\r\\n1.#QNB,1.#QNB,1.#QNB,1.#QNB,1.#QNB,1.#QNB,0,9.1846e-005,-0.00012348,0.00012609,0.00092953\\r\\n1.#QNB,1.#QNB,1.#QNB,1.#QNB,1.#QNB,1.#QNB,0,0.00012246,-9.2863e-005,0.00012645,0.00092933\\r\\n1.#QNB,1.#QNB,1.#QNB,1.#QNB,1.#QNB,1.#QNB,0,0.00015308,-6.2251e-005,0.00012682,0.00092913\\r\\n1.#QNB,1.#QNB,1.#QNB,1.#QNB,1.#QNB,1.#QNB,0,0.00018369,-3.1638e-005,0.00012718,0.00092892\\r\\n1.#QNB,1.#QNB,1.#QNB,1.#QNB,1.#QNB,1.#QNB,0,0.00021431,-1.0257e-006,0.00012754,0.00092872\\r\\n1535.3,0.044049,-0.00047706,4.5821e-029,0,1536.3,1,0.00024492,2.9587e-005,0.0001279,0.00092852\\r\\n1531.4,0.049399,-0.00054086,5.3779e-029,0,1532.4,1,0.00027554,6.02e-005,0.00012827,0.00092832\\r\\n1520.8,0.053542,-0.00041794,1.7457e-029,0,1521.8,1,0.00030615,9.0812e-005,0.00012863,0.00092812\\r\\n1506.5,0.056089,-0.00027046,-3.5932e-030,0,1507.6,1,0.00033677,0.00012142,0.00012899,0.00092791\\r\\n1490.9,0.057377,-0.00016071,-3.21e-030,0,1492,1,0.00036738,0.00015204,0.00012935,0.00092771\\r\\n1474.9,0.057937,-9.0996e-005,1.0263e-031,0,1475.9,1,0.000398,0.00018265,0.00012972,0.00092751\\r\\n1458.7,0.058172,-3.5051e-005,6.0067e-031,0,1459.7,1,0.00042862,0.00021326,0.00013008,0.00092731\\r\\n1442.4,0.058251,3.3305e-005,5.8129e-031,0,1443.5,1,0.00045923,0.00024388,0.00013044,0.00092711\\r\\n1426.2,0.05826,0.00014664,1.0098e-032,0,1427.2,1,0.00048985,0.00027449,0.0001308,0.00092691\\r\\n1409.9,0.058238,0.00036741,6.5695e-031,0,1411,1,0.00052046,0.0003051,0.00013117,0.0009267\\r\\n1393.6,0.058197,0.00075096,1.2433e-030,0,1394.7,1,0.00055108,0.00033571,0.00013153,0.0009265\\r\\n1377.3,0.058122,0.0013676,5.1316e-031,0,1378.4,1,0.00058169,0.00036633,0.00013189,0.0009263\\r\\n1361,0.057966,0.0022837,-1.7949e-030,0,1362,1,0.00061231,0.00039694,0.00013226,0.0009261\\r\\n1344.7,0.057611,0.0035303,1.4349e-029,0,1345.8,1,0.00064292,0.00042755,0.00013262,0.0009259\\r\\n1328.8,0.056855,0.004905,3.7093e-029,0,1329.9,1,0.00067354,0.00045816,0.00013298,0.00092569\\r\\n1313.9,0.05562,0.0058126,-5.1745e-029,5.6094e-024,1315,1,0.00070415,0.00048878,0.00013334,0.00092549\\r\\n1301.2,0.054247,0.0054714,-1.9978e-028,1.4855e-017,1302.3,1,0.00073477,0.00051939,0.00013371,0.00092529\\r\\n1290.6,0.053458,0.0037305,-1.022e-028,4.8703e-013,1291.7,1,0.00076539,0.00055,0.00013407,0.00092509\\r\\n1280.5,0.053854,0.0012543,1.3132e-030,-1.515e-008,1281.6,1,0.000796,0.00058061,0.00013443,0.00092489\\r\\n1269.8,0.055167,-0.0010806,0,-3.7484e-008,1270.9,1,0.00082662,0.00061123,0.00013479,0.00092468\\r\\n1257.7,0.057086,-0.0027682,0,4.5143e-007,1258.8,1,0.00085723,0.00064184,0.00013516,0.00092448\\r\\n1244.1,0.059181,-0.0034327,1.3991e-029,1.5537e-006,1245.2,1,0.00088785,0.00067245,0.00013552,0.00092428\\r\\n1228.7,0.060757,-0.0027617,3.0734e-029,3.7009e-006,1229.8,1,0.00091846,0.00070306,0.00013588,0.00092408\\r\\n1212.5,0.061032,-0.0012949,2.462e-028,1.059e-005,1213.6,1,0.00094908,0.00073368,0.00013624,0.00092388\\r\\n1197.5,0.059997,-0.00036667,7.7592e-028,1.3767e-005,1198.6,1,0.00097969,0.00076429,0.00013661,0.00092368\\r\\n1185.2,0.058479,-0.00080251,5.2821e-028,5.3886e-006,1186.3,1,0.0010103,0.0007949,0.00013697,0.00092347\\r\\n1176.6,0.057628,-0.0028939,8.6529e-032,5.0632e-005,1177.7,1,0.0010409,0.00082551,0.00013733,0.00092327\\r\\n1169.1,0.058498,-0.0054117,-3.8533e-029,0.0023201,1170.2,1,0.0010715,0.00085613,0.00013769,0.00092307\\r\\n1162.6,0.059367,-0.007614,1.9716e-027,0.015628,1163.8,1,0.0011022,0.00088674,0.00013806,0.00092287\\r\\n1167.3,0.061332,-0.012001,5.0435e-027,0.069529,1168.5,1,0.0011328,0.00091735,0.00013842,0.00092267\\r\\n1159.3,0.066286,-0.011873,1.6888e-027,0.16425,1160.5,1,0.0011634,0.00094796,0.00013878,0.00092246\\r\\n1147,0.069723,-0.0084906,9.3607e-028,0.26366,1148.2,1,0.001194,0.00097858,0.00013914,0.00092226\\r\\n1155.2,0.07012,-0.012246,-4.854e-028,0.34897,1156.4,1,0.0012246,0.0010092,0.00013951,0.00092206\\r\\n1155.4,0.071496,-0.01225,-1.3115e-028,0.43681,1156.7,1,0.0012552,0.0010398,0.00013987,0.00092186\\r\\n1144,0.073049,-0.0052775,5.798e-027,0.50469,1145.3,1,0.0012858,0.0010704,0.00014023,0.00092166\\r\\n1128,0.072474,-0.00010949,3.784e-027,0.50572,1129.2,1,0.0013165,0.001101,0.00014059,0.00092145\\r\\n1099.5,0.069299,0.0036851,-1.0609e-027,0.43071,1100.8,1,0.0013471,0.0011316,0.00014096,0.00092125\\r\\n1047.1,0.064709,0.0079167,-3.3299e-027,0.26437,1048.3,1,0.0013777,0.0011623,0.00014132,0.00092105\\r\\n978.81,0.061031,0.010036,2.0362e-028,0.08841,979.97,1,0.0014083,0.0011929,0.00014168,0.00092085\\r\\n940.55,0.060461,0.0068335,1.606e-027,0.0084156,941.69,1,0.0014389,0.0012235,0.00014204,0.00092065\\r\\n925.02,0.062193,0.0034405,2.7729e-028,0.0034475,926.17,1,0.0014695,0.0012541,0.00014241,0.00092045\\r\\n907.24,0.063576,0.0017042,8.4659e-028,0.0025592,908.39,1,0.0015002,0.0012847,0.00014277,0.00092024\\r\\n888.9,0.06432,0.00082858,-6.12e-027,0.0015665,890.05,1,0.0015308,0.0013153,0.00014313,0.00092004\\r\\n870.75,0.064699,0.00039544,-1.5595e-026,0.0013795,871.91,1,0.0015614,0.0013459,0.00014349,0.00091984\\r\\n851.32,0.064881,0.0001386,-2.257e-027,0.00086281,852.48,1,0.001592,0.0013765,0.00014386,0.00091964\\r\\n831.6,0.064942,3.7306e-005,1.0918e-026,0.00021167,832.76,1,0.0016226,0.0014072,0.00014422,0.00091944\\r\\n812.29,0.064936,1.5063e-005,1.705e-027,3.5367e-005,813.46,1,0.0016532,0.0014378,0.00014458,0.00091923\\r\\n793.03,0.064894,4.7904e-006,-7.1919e-027,3.4436e-005,794.2,1,0.0016838,0.0014684,0.00014494,0.00091903\\r\\n773.84,0.064846,-2.2111e-005,4.3974e-027,6.0175e-005,775,1,0.0017145,0.001499,0.00014531,0.00091883\\r\\n754.65,0.064811,-4.6879e-005,1.4732e-026,7.7709e-005,755.82,1,0.0017451,0.0015296,0.00014567,0.00091863\\r\\n735.39,0.064785,-5.4218e-005,4.6386e-027,7.9042e-005,736.57,1,0.0017757,0.0015602,0.00014603,0.00091843\\r\\n716.06,0.064759,-3.7314e-005,-1.0823e-027,8.1641e-005,717.24,1,0.0018063,0.0015908,0.00014639,0.00091822\\r\\n696.67,0.064732,-4.4752e-006,-1.5207e-028,7.1042e-005,697.85,1,0.0018369,0.0016214,0.00014676,0.00091802\\r\\n677.23,0.064701,5.1029e-005,9.3877e-028,3.8909e-005,678.42,1,0.0018675,0.0016521,0.00014712,0.00091782\\r\\n657.83,0.064656,0.00011259,-8.6697e-028,2.6906e-005,659.01,1,0.0018982,0.0016827,0.00014748,0.00091762\\r\\n638.69,0.064624,0.00014349,-6.6634e-027,3.2479e-005,639.87,1,0.0019288,0.0017133,0.00014785,0.00091742\\r\\n619.45,0.064615,0.00024094,-4.8534e-027,3.9754e-005,620.64,1,0.0019594,0.0017439,0.00014821,0.00091722\\r\\n600.29,0.064615,0.0003858,9.3584e-028,4.546e-005,601.49,1,0.00199,0.0017745,0.00014857,0.00091701\\r\\n581.54,0.064672,0.00056402,-3.7075e-027,7.9297e-005,582.74,1,0.0020206,0.0018051,0.00014893,0.00091681\\r\\n562.67,0.064787,0.00093173,-6.6623e-027,0.00014763,563.87,1,0.0020512,0.0018357,0.0001493,0.00091661\\r\\n543.68,0.06495,0.0014966,-1.599e-027,0.00017938,544.88,1,0.0020818,0.0018663,0.00014966,0.00091641\\r\\n524.39,0.065165,0.0022902,3.3472e-027,0.00011235,525.6,1,0.0021125,0.001897,0.00015002,0.00091621\\r\\n504.81,0.065326,0.0033426,8.349e-027,2.3959e-005,506.02,1,0.0021431,0.0019276,0.00015038,0.000916\\r\\n484.82,0.06539,0.0046581,4.2971e-027,6.9191e-006,486.03,1,0.0021737,0.0019582,0.00015075,0.0009158\\r\\n464.29,0.065143,0.0061134,4.7503e-028,2.06e-005,465.5,1,0.0022043,0.0019888,0.00015111,0.0009156\\r\\n443.29,0.064222,0.0074039,-7.1796e-029,0.00013905,444.5,1,0.0022349,0.0020194,0.00015147,0.0009154\\r\\n422.37,0.062121,0.0078306,-2.5832e-028,0.0011057,423.59,1,0.0022655,0.00205,0.00015183,0.0009152\\r\\n408.2,0.058812,0.0055247,-1.3048e-028,0.018762,409.43,1,0.0022962,0.0020806,0.0001522,0.00091499\\r\\n415.13,0.056381,0.00075313,7.2471e-028,0.15161,416.4,1,0.0023268,0.0021112,0.00015256,0.00091479\\r\\n448.36,0.055789,-0.0044427,1.7623e-027,0.50086,449.74,1,0.0023574,0.0021419,0.00015292,0.00091459\\r\\n482.51,0.056793,-0.008179,2.2862e-027,0.8415,483.98,1,0.002388,0.0021725,0.00015328,0.00091439\\r\\n493.92,0.057454,-0.0038917,1.2461e-027,0.94109,495.42,1,0.0024186,0.0022031,0.00015365,0.00091419\\r\\n494.28,0.05587,0.003203,7.3169e-028,0.94631,495.78,1,0.0024492,0.0022337,0.00015401,0.00091398\\r\\n494.02,0.05108,0.008501,-9.7884e-028,0.94842,495.53,1,0.0024798,0.0022643,0.00015437,0.00091378\\r\\n494.49,0.041786,0.0097025,-2.1172e-026,0.94888,496,1,0.0025105,0.0022949,0.00015473,0.00091358\\r\\n490.15,0.034297,0.0025375,-5.3964e-026,0.92939,491.66,1,0.0025411,0.0023255,0.0001551,0.00091338\\r\\n410.03,0.041559,-0.0079217,-4.1115e-026,0.69549,411.48,1,0.0025717,0.0023561,0.00015546,0.00091318\\r\\n275.34,0.052448,-0.012696,-5.8733e-027,0.25577,276.66,1,0.0026023,0.0023868,0.00015582,0.00091298\\r\\n214.34,0.058868,-0.011247,5.3676e-027,0.042479,215.61,1,0.0026329,0.0024174,0.00015618,0.00091277\\r\\n190.87,0.061717,-0.0076204,6.3423e-027,0.011416,192.13,1,0.0026635,0.002448,0.00015655,0.00091257\\r\\n168.84,0.062407,-0.0045882,4.639e-027,0.004421,170.1,1,0.0026942,0.0024786,0.00015691,0.00091237\\r\\n148.28,0.062405,-0.0026293,-3.8671e-027,0.0017827,149.54,1,0.0027248,0.0025092,0.00015727,0.00091217\\r\\n128.54,0.062231,-0.001467,-8.2316e-027,0.00071178,129.81,1,0.0027554,0.0025398,0.00015763,0.00091197\\r\\n109.27,0.062029,-0.00081151,-7.1282e-027,0.00027908,110.54,1,0.002786,0.0025704,0.000158,0.00091176\\r\\n90.206,0.061841,-0.00043947,2.9553e-027,0.00011546,91.48,1,0.0028166,0.002601,0.00015836,0.00091156\\r\\n71.257,0.061676,-0.0002248,-1.5615e-028,5.5466e-005,72.534,1,0.0028472,0.0026317,0.00015872,0.00091136\\r\\n52.385,0.061526,-8.5138e-005,-2.0954e-027,2.8046e-005,53.664,1,0.0028778,0.0026623,0.00015908,0.00091116\\r\\n33.578,0.06139,3.7406e-006,-7.3882e-027,2.2731e-005,34.861,1,0.0029085,0.0026929,0.00015945,0.00091096\\r\\n14.837,0.061265,5.9269e-005,-1.5583e-027,5.5848e-005,16.123,1,0.0029391,0.0027235,0.00015981,0.00091075\\r\\n1.#QNB,1.#QNB,1.#QNB,1.#QNB,1.#QNB,1.#QNB,0,0.0029697,0.0027541,0.00016017,0.00091055\\r\\n1.#QNB,1.#QNB,1.#QNB,1.#QNB,1.#QNB,1.#QNB,0,0.0030003,0.0027847,0.00016053,0.00091035\\r\\n1.#QNB,1.#QNB,1.#QNB,1.#QNB,1.#QNB,1.#QNB,0,0.0030309,0.0028153,0.0001609,0.00091015\\r\\n1.#QNB,1.#QNB,1.#QNB,1.#QNB,1.#QNB,1.#QNB,0,0.0030615,0.0028459,0.00016126,0.00090995\\r\\n'}"
            ]
          },
          "metadata": {},
          "execution_count": 5
        }
      ]
    },
    {
      "cell_type": "code",
      "metadata": {
        "id": "TgMmmaHMmkvE"
      },
      "source": [
        "velo = pd.read_csv('luis.csv')"
      ],
      "execution_count": null,
      "outputs": []
    },
    {
      "cell_type": "code",
      "metadata": {
        "colab": {
          "base_uri": "https://localhost:8080/",
          "height": 456
        },
        "id": "bYb0urVsmsRW",
        "outputId": "968fa13c-a44e-4c45-c510-49600038e836"
      },
      "source": [
        "velo"
      ],
      "execution_count": null,
      "outputs": [
        {
          "output_type": "execute_result",
          "data": {
            "text/html": [
              "<div>\n",
              "<style scoped>\n",
              "    .dataframe tbody tr th:only-of-type {\n",
              "        vertical-align: middle;\n",
              "    }\n",
              "\n",
              "    .dataframe tbody tr th {\n",
              "        vertical-align: top;\n",
              "    }\n",
              "\n",
              "    .dataframe thead th {\n",
              "        text-align: right;\n",
              "    }\n",
              "</style>\n",
              "<table border=\"1\" class=\"dataframe\">\n",
              "  <thead>\n",
              "    <tr style=\"text-align: right;\">\n",
              "      <th></th>\n",
              "      <th>p</th>\n",
              "      <th>U:0</th>\n",
              "      <th>U:1</th>\n",
              "      <th>U:2</th>\n",
              "      <th>alpha.water</th>\n",
              "      <th>p_rgh</th>\n",
              "      <th>vtkValidPointMask</th>\n",
              "      <th>arc_length</th>\n",
              "      <th>Points:0</th>\n",
              "      <th>Points:1</th>\n",
              "      <th>Points:2</th>\n",
              "    </tr>\n",
              "  </thead>\n",
              "  <tbody>\n",
              "    <tr>\n",
              "      <th>0</th>\n",
              "      <td>1.#QNB</td>\n",
              "      <td>1.#QNB</td>\n",
              "      <td>1.#QNB</td>\n",
              "      <td>1.#QNB</td>\n",
              "      <td>1.#QNB</td>\n",
              "      <td>1.#QNB</td>\n",
              "      <td>0</td>\n",
              "      <td>0.000000</td>\n",
              "      <td>-0.000215</td>\n",
              "      <td>0.000125</td>\n",
              "      <td>0.000930</td>\n",
              "    </tr>\n",
              "    <tr>\n",
              "      <th>1</th>\n",
              "      <td>1.#QNB</td>\n",
              "      <td>1.#QNB</td>\n",
              "      <td>1.#QNB</td>\n",
              "      <td>1.#QNB</td>\n",
              "      <td>1.#QNB</td>\n",
              "      <td>1.#QNB</td>\n",
              "      <td>0</td>\n",
              "      <td>0.000031</td>\n",
              "      <td>-0.000185</td>\n",
              "      <td>0.000125</td>\n",
              "      <td>0.000930</td>\n",
              "    </tr>\n",
              "    <tr>\n",
              "      <th>2</th>\n",
              "      <td>1.#QNB</td>\n",
              "      <td>1.#QNB</td>\n",
              "      <td>1.#QNB</td>\n",
              "      <td>1.#QNB</td>\n",
              "      <td>1.#QNB</td>\n",
              "      <td>1.#QNB</td>\n",
              "      <td>0</td>\n",
              "      <td>0.000061</td>\n",
              "      <td>-0.000154</td>\n",
              "      <td>0.000126</td>\n",
              "      <td>0.000930</td>\n",
              "    </tr>\n",
              "    <tr>\n",
              "      <th>3</th>\n",
              "      <td>1.#QNB</td>\n",
              "      <td>1.#QNB</td>\n",
              "      <td>1.#QNB</td>\n",
              "      <td>1.#QNB</td>\n",
              "      <td>1.#QNB</td>\n",
              "      <td>1.#QNB</td>\n",
              "      <td>0</td>\n",
              "      <td>0.000092</td>\n",
              "      <td>-0.000123</td>\n",
              "      <td>0.000126</td>\n",
              "      <td>0.000930</td>\n",
              "    </tr>\n",
              "    <tr>\n",
              "      <th>4</th>\n",
              "      <td>1.#QNB</td>\n",
              "      <td>1.#QNB</td>\n",
              "      <td>1.#QNB</td>\n",
              "      <td>1.#QNB</td>\n",
              "      <td>1.#QNB</td>\n",
              "      <td>1.#QNB</td>\n",
              "      <td>0</td>\n",
              "      <td>0.000122</td>\n",
              "      <td>-0.000093</td>\n",
              "      <td>0.000126</td>\n",
              "      <td>0.000929</td>\n",
              "    </tr>\n",
              "    <tr>\n",
              "      <th>...</th>\n",
              "      <td>...</td>\n",
              "      <td>...</td>\n",
              "      <td>...</td>\n",
              "      <td>...</td>\n",
              "      <td>...</td>\n",
              "      <td>...</td>\n",
              "      <td>...</td>\n",
              "      <td>...</td>\n",
              "      <td>...</td>\n",
              "      <td>...</td>\n",
              "      <td>...</td>\n",
              "    </tr>\n",
              "    <tr>\n",
              "      <th>96</th>\n",
              "      <td>14.837</td>\n",
              "      <td>0.061265</td>\n",
              "      <td>5.9269e-005</td>\n",
              "      <td>-1.5583e-027</td>\n",
              "      <td>5.5848e-005</td>\n",
              "      <td>16.123</td>\n",
              "      <td>1</td>\n",
              "      <td>0.002939</td>\n",
              "      <td>0.002723</td>\n",
              "      <td>0.000160</td>\n",
              "      <td>0.000911</td>\n",
              "    </tr>\n",
              "    <tr>\n",
              "      <th>97</th>\n",
              "      <td>1.#QNB</td>\n",
              "      <td>1.#QNB</td>\n",
              "      <td>1.#QNB</td>\n",
              "      <td>1.#QNB</td>\n",
              "      <td>1.#QNB</td>\n",
              "      <td>1.#QNB</td>\n",
              "      <td>0</td>\n",
              "      <td>0.002970</td>\n",
              "      <td>0.002754</td>\n",
              "      <td>0.000160</td>\n",
              "      <td>0.000911</td>\n",
              "    </tr>\n",
              "    <tr>\n",
              "      <th>98</th>\n",
              "      <td>1.#QNB</td>\n",
              "      <td>1.#QNB</td>\n",
              "      <td>1.#QNB</td>\n",
              "      <td>1.#QNB</td>\n",
              "      <td>1.#QNB</td>\n",
              "      <td>1.#QNB</td>\n",
              "      <td>0</td>\n",
              "      <td>0.003000</td>\n",
              "      <td>0.002785</td>\n",
              "      <td>0.000161</td>\n",
              "      <td>0.000910</td>\n",
              "    </tr>\n",
              "    <tr>\n",
              "      <th>99</th>\n",
              "      <td>1.#QNB</td>\n",
              "      <td>1.#QNB</td>\n",
              "      <td>1.#QNB</td>\n",
              "      <td>1.#QNB</td>\n",
              "      <td>1.#QNB</td>\n",
              "      <td>1.#QNB</td>\n",
              "      <td>0</td>\n",
              "      <td>0.003031</td>\n",
              "      <td>0.002815</td>\n",
              "      <td>0.000161</td>\n",
              "      <td>0.000910</td>\n",
              "    </tr>\n",
              "    <tr>\n",
              "      <th>100</th>\n",
              "      <td>1.#QNB</td>\n",
              "      <td>1.#QNB</td>\n",
              "      <td>1.#QNB</td>\n",
              "      <td>1.#QNB</td>\n",
              "      <td>1.#QNB</td>\n",
              "      <td>1.#QNB</td>\n",
              "      <td>0</td>\n",
              "      <td>0.003061</td>\n",
              "      <td>0.002846</td>\n",
              "      <td>0.000161</td>\n",
              "      <td>0.000910</td>\n",
              "    </tr>\n",
              "  </tbody>\n",
              "</table>\n",
              "<p>101 rows × 11 columns</p>\n",
              "</div>"
            ],
            "text/plain": [
              "          p       U:0          U:1  ...  Points:0  Points:1  Points:2\n",
              "0    1.#QNB    1.#QNB       1.#QNB  ... -0.000215  0.000125  0.000930\n",
              "1    1.#QNB    1.#QNB       1.#QNB  ... -0.000185  0.000125  0.000930\n",
              "2    1.#QNB    1.#QNB       1.#QNB  ... -0.000154  0.000126  0.000930\n",
              "3    1.#QNB    1.#QNB       1.#QNB  ... -0.000123  0.000126  0.000930\n",
              "4    1.#QNB    1.#QNB       1.#QNB  ... -0.000093  0.000126  0.000929\n",
              "..      ...       ...          ...  ...       ...       ...       ...\n",
              "96   14.837  0.061265  5.9269e-005  ...  0.002723  0.000160  0.000911\n",
              "97   1.#QNB    1.#QNB       1.#QNB  ...  0.002754  0.000160  0.000911\n",
              "98   1.#QNB    1.#QNB       1.#QNB  ...  0.002785  0.000161  0.000910\n",
              "99   1.#QNB    1.#QNB       1.#QNB  ...  0.002815  0.000161  0.000910\n",
              "100  1.#QNB    1.#QNB       1.#QNB  ...  0.002846  0.000161  0.000910\n",
              "\n",
              "[101 rows x 11 columns]"
            ]
          },
          "metadata": {},
          "execution_count": 7
        }
      ]
    },
    {
      "cell_type": "code",
      "metadata": {
        "colab": {
          "base_uri": "https://localhost:8080/",
          "height": 34
        },
        "id": "L7XRT9Hrmv38",
        "outputId": "0ef00454-be6d-4bcd-b35b-4875417d469f"
      },
      "source": [
        "fig_v = plt.figure(figsize=(15,8))\n",
        "fig_v.suptitle(\"Velocidade placa\")\n",
        "\n",
        "x=velo[\"U:0\"]\n",
        "y=velo[\"Points:1\"]\n"
      ],
      "execution_count": null,
      "outputs": [
        {
          "output_type": "display_data",
          "data": {
            "text/plain": [
              "<Figure size 1080x576 with 0 Axes>"
            ]
          },
          "metadata": {}
        }
      ]
    }
  ]
}